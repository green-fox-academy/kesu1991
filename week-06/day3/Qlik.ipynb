{
 "cells": [
  {
   "cell_type": "code",
   "execution_count": 3,
   "metadata": {},
   "outputs": [],
   "source": [
    "import pandas as pd\n",
    "import numpy as np\n",
    "import matplotlib\n",
    "from matplotlib import pyplot as plt\n",
    "\n",
    "%matplotlib inline"
   ]
  },
  {
   "cell_type": "code",
   "execution_count": 4,
   "metadata": {},
   "outputs": [
    {
     "data": {
      "text/html": [
       "<div>\n",
       "<style scoped>\n",
       "    .dataframe tbody tr th:only-of-type {\n",
       "        vertical-align: middle;\n",
       "    }\n",
       "\n",
       "    .dataframe tbody tr th {\n",
       "        vertical-align: top;\n",
       "    }\n",
       "\n",
       "    .dataframe thead th {\n",
       "        text-align: right;\n",
       "    }\n",
       "</style>\n",
       "<table border=\"1\" class=\"dataframe\">\n",
       "  <thead>\n",
       "    <tr style=\"text-align: right;\">\n",
       "      <th></th>\n",
       "      <th>Order ID</th>\n",
       "      <th>Order Date</th>\n",
       "      <th>Order Priority</th>\n",
       "      <th>Order Quantity</th>\n",
       "      <th>Sales</th>\n",
       "      <th>Discount</th>\n",
       "      <th>Ship Mode</th>\n",
       "      <th>Profit</th>\n",
       "      <th>Unit Price</th>\n",
       "      <th>Shipping Cost</th>\n",
       "      <th>...</th>\n",
       "      <th>Zip Code</th>\n",
       "      <th>State</th>\n",
       "      <th>Region</th>\n",
       "      <th>Customer Segment</th>\n",
       "      <th>Product Category</th>\n",
       "      <th>Product Sub-Category</th>\n",
       "      <th>Product Name</th>\n",
       "      <th>Product Container</th>\n",
       "      <th>Product Base Margin</th>\n",
       "      <th>Ship Date</th>\n",
       "    </tr>\n",
       "    <tr>\n",
       "      <th>Row ID</th>\n",
       "      <th></th>\n",
       "      <th></th>\n",
       "      <th></th>\n",
       "      <th></th>\n",
       "      <th></th>\n",
       "      <th></th>\n",
       "      <th></th>\n",
       "      <th></th>\n",
       "      <th></th>\n",
       "      <th></th>\n",
       "      <th></th>\n",
       "      <th></th>\n",
       "      <th></th>\n",
       "      <th></th>\n",
       "      <th></th>\n",
       "      <th></th>\n",
       "      <th></th>\n",
       "      <th></th>\n",
       "      <th></th>\n",
       "      <th></th>\n",
       "      <th></th>\n",
       "    </tr>\n",
       "  </thead>\n",
       "  <tbody>\n",
       "    <tr>\n",
       "      <th>1</th>\n",
       "      <td>3</td>\n",
       "      <td>2010-10-13</td>\n",
       "      <td>Low</td>\n",
       "      <td>6</td>\n",
       "      <td>261.5400</td>\n",
       "      <td>0.04</td>\n",
       "      <td>Regular Air</td>\n",
       "      <td>-213.250</td>\n",
       "      <td>38.94</td>\n",
       "      <td>35.00</td>\n",
       "      <td>...</td>\n",
       "      <td>60035</td>\n",
       "      <td>Illinois</td>\n",
       "      <td>Central</td>\n",
       "      <td>Small Business</td>\n",
       "      <td>Office Supplies</td>\n",
       "      <td>Storage &amp; Organization</td>\n",
       "      <td>Eldon Base for stackable storage shelf, platinum</td>\n",
       "      <td>Large Box</td>\n",
       "      <td>0.80</td>\n",
       "      <td>2010-10-20</td>\n",
       "    </tr>\n",
       "    <tr>\n",
       "      <th>2</th>\n",
       "      <td>6</td>\n",
       "      <td>2012-02-20</td>\n",
       "      <td>Not Specified</td>\n",
       "      <td>2</td>\n",
       "      <td>6.9300</td>\n",
       "      <td>0.01</td>\n",
       "      <td>Regular Air</td>\n",
       "      <td>-4.640</td>\n",
       "      <td>2.08</td>\n",
       "      <td>2.56</td>\n",
       "      <td>...</td>\n",
       "      <td>98026</td>\n",
       "      <td>Washington</td>\n",
       "      <td>West</td>\n",
       "      <td>Corporate</td>\n",
       "      <td>Office Supplies</td>\n",
       "      <td>Scissors, Rulers and Trimmers</td>\n",
       "      <td>Kleencut® Forged Office Shears by Acme United ...</td>\n",
       "      <td>Small Pack</td>\n",
       "      <td>0.55</td>\n",
       "      <td>2012-02-21</td>\n",
       "    </tr>\n",
       "    <tr>\n",
       "      <th>3</th>\n",
       "      <td>32</td>\n",
       "      <td>2011-07-15</td>\n",
       "      <td>High</td>\n",
       "      <td>26</td>\n",
       "      <td>2808.0800</td>\n",
       "      <td>0.07</td>\n",
       "      <td>Regular Air</td>\n",
       "      <td>1054.820</td>\n",
       "      <td>107.53</td>\n",
       "      <td>5.81</td>\n",
       "      <td>...</td>\n",
       "      <td>98387</td>\n",
       "      <td>Washington</td>\n",
       "      <td>West</td>\n",
       "      <td>Corporate</td>\n",
       "      <td>Furniture</td>\n",
       "      <td>Office Furnishings</td>\n",
       "      <td>Tenex Contemporary Contur Chairmats for Low an...</td>\n",
       "      <td>Medium Box</td>\n",
       "      <td>0.65</td>\n",
       "      <td>2011-07-17</td>\n",
       "    </tr>\n",
       "    <tr>\n",
       "      <th>4</th>\n",
       "      <td>32</td>\n",
       "      <td>2011-07-15</td>\n",
       "      <td>High</td>\n",
       "      <td>24</td>\n",
       "      <td>1761.4000</td>\n",
       "      <td>0.09</td>\n",
       "      <td>Delivery Truck</td>\n",
       "      <td>-1748.560</td>\n",
       "      <td>70.89</td>\n",
       "      <td>89.30</td>\n",
       "      <td>...</td>\n",
       "      <td>98387</td>\n",
       "      <td>Washington</td>\n",
       "      <td>West</td>\n",
       "      <td>Corporate</td>\n",
       "      <td>Furniture</td>\n",
       "      <td>Tables</td>\n",
       "      <td>KI Conference Tables</td>\n",
       "      <td>Jumbo Box</td>\n",
       "      <td>0.72</td>\n",
       "      <td>2011-07-16</td>\n",
       "    </tr>\n",
       "    <tr>\n",
       "      <th>5</th>\n",
       "      <td>32</td>\n",
       "      <td>2011-07-15</td>\n",
       "      <td>High</td>\n",
       "      <td>23</td>\n",
       "      <td>160.2335</td>\n",
       "      <td>0.04</td>\n",
       "      <td>Regular Air</td>\n",
       "      <td>-85.129</td>\n",
       "      <td>7.99</td>\n",
       "      <td>5.03</td>\n",
       "      <td>...</td>\n",
       "      <td>98387</td>\n",
       "      <td>Washington</td>\n",
       "      <td>West</td>\n",
       "      <td>Corporate</td>\n",
       "      <td>Technology</td>\n",
       "      <td>Telephones and Communication</td>\n",
       "      <td>Bell Sonecor JB700 Caller ID</td>\n",
       "      <td>Medium Box</td>\n",
       "      <td>0.60</td>\n",
       "      <td>2011-07-17</td>\n",
       "    </tr>\n",
       "  </tbody>\n",
       "</table>\n",
       "<p>5 rows × 22 columns</p>\n",
       "</div>"
      ],
      "text/plain": [
       "        Order ID Order Date Order Priority  Order Quantity      Sales  \\\n",
       "Row ID                                                                  \n",
       "1              3 2010-10-13            Low               6   261.5400   \n",
       "2              6 2012-02-20  Not Specified               2     6.9300   \n",
       "3             32 2011-07-15           High              26  2808.0800   \n",
       "4             32 2011-07-15           High              24  1761.4000   \n",
       "5             32 2011-07-15           High              23   160.2335   \n",
       "\n",
       "        Discount       Ship Mode    Profit  Unit Price  Shipping Cost  ...  \\\n",
       "Row ID                                                                 ...   \n",
       "1           0.04     Regular Air  -213.250       38.94          35.00  ...   \n",
       "2           0.01     Regular Air    -4.640        2.08           2.56  ...   \n",
       "3           0.07     Regular Air  1054.820      107.53           5.81  ...   \n",
       "4           0.09  Delivery Truck -1748.560       70.89          89.30  ...   \n",
       "5           0.04     Regular Air   -85.129        7.99           5.03  ...   \n",
       "\n",
       "       Zip Code       State   Region Customer Segment Product Category  \\\n",
       "Row ID                                                                   \n",
       "1         60035    Illinois  Central   Small Business  Office Supplies   \n",
       "2         98026  Washington     West        Corporate  Office Supplies   \n",
       "3         98387  Washington     West        Corporate        Furniture   \n",
       "4         98387  Washington     West        Corporate        Furniture   \n",
       "5         98387  Washington     West        Corporate       Technology   \n",
       "\n",
       "                 Product Sub-Category  \\\n",
       "Row ID                                  \n",
       "1              Storage & Organization   \n",
       "2       Scissors, Rulers and Trimmers   \n",
       "3                  Office Furnishings   \n",
       "4                              Tables   \n",
       "5        Telephones and Communication   \n",
       "\n",
       "                                             Product Name Product Container  \\\n",
       "Row ID                                                                        \n",
       "1        Eldon Base for stackable storage shelf, platinum         Large Box   \n",
       "2       Kleencut® Forged Office Shears by Acme United ...        Small Pack   \n",
       "3       Tenex Contemporary Contur Chairmats for Low an...        Medium Box   \n",
       "4                                    KI Conference Tables         Jumbo Box   \n",
       "5                            Bell Sonecor JB700 Caller ID        Medium Box   \n",
       "\n",
       "       Product Base Margin  Ship Date  \n",
       "Row ID                                 \n",
       "1                     0.80 2010-10-20  \n",
       "2                     0.55 2012-02-21  \n",
       "3                     0.65 2011-07-17  \n",
       "4                     0.72 2011-07-16  \n",
       "5                     0.60 2011-07-17  \n",
       "\n",
       "[5 rows x 22 columns]"
      ]
     },
     "execution_count": 4,
     "metadata": {},
     "output_type": "execute_result"
    }
   ],
   "source": [
    "Sales = pd.read_excel('Superstore.xls', index_col=0)\n",
    "\n",
    "Sales.head()"
   ]
  },
  {
   "cell_type": "markdown",
   "metadata": {},
   "source": [
    "# Task 1: Superstore\n",
    "\n",
    "Continue using the Superstore dataset. The output to be submitted is \n",
    "a) code using matplotlib \n",
    "b) screenshots showing your results using Qlik Sense.\n",
    "\n",
    "- Map the amount of high-priority shipments within 2010 on a timeline."
   ]
  },
  {
   "cell_type": "code",
   "execution_count": 41,
   "metadata": {},
   "outputs": [
    {
     "name": "stderr",
     "output_type": "stream",
     "text": [
      "C:\\Users\\Ke_Su\\AppData\\Local\\Continuum\\anaconda3\\lib\\site-packages\\pandas\\plotting\\_converter.py:129: FutureWarning: Using an implicitly registered datetime converter for a matplotlib plotting method. The converter was registered by pandas on import. Future versions of pandas will require you to explicitly register matplotlib converters.\n",
      "\n",
      "To register the converters:\n",
      "\t>>> from pandas.plotting import register_matplotlib_converters\n",
      "\t>>> register_matplotlib_converters()\n",
      "  warnings.warn(msg, FutureWarning)\n"
     ]
    },
    {
     "data": {
      "image/png": "[encoded data removed]",
      "text/plain": [
       "<Figure size 432x288 with 1 Axes>"
      ]
     },
     "metadata": {
      "needs_background": "light"
     },
     "output_type": "display_data"
    }
   ],
   "source": [
    "from datetime import datetime as dt\n",
    "\n",
    "#this will render a warning but irrelevant in this case\n",
    "Sales.sort_values(by=['Order Date'], inplace=True)\n",
    "\n",
    "\n",
    "df = Sales[Sales['Order Priority'] == 'High']\n",
    "df1 = df[df['Order Date'].dt.year == 2010]\n",
    "\n",
    "x = np.array(df1[\"Order Date\"].unique())\n",
    "y = np.array(df1[\"Order Priority\"].groupby(df1[\"Order Date\"]).count())\n",
    "\n",
    "plt.plot(x,y, 'm')\n",
    "\n",
    "plt.show()"
   ]
  },
  {
   "cell_type": "markdown",
   "metadata": {},
   "source": [
    "- Graph out the minimum and maximum shipping costs per container type."
   ]
  },
  {
   "cell_type": "code",
   "execution_count": 124,
   "metadata": {
    "scrolled": true
   },
   "outputs": [
    {
     "data": {
      "text/html": [
       "<div>\n",
       "<style scoped>\n",
       "    .dataframe tbody tr th:only-of-type {\n",
       "        vertical-align: middle;\n",
       "    }\n",
       "\n",
       "    .dataframe tbody tr th {\n",
       "        vertical-align: top;\n",
       "    }\n",
       "\n",
       "    .dataframe thead th {\n",
       "        text-align: right;\n",
       "    }\n",
       "</style>\n",
       "<table border=\"1\" class=\"dataframe\">\n",
       "  <thead>\n",
       "    <tr style=\"text-align: right;\">\n",
       "      <th></th>\n",
       "      <th>Maximum Shipping Cost</th>\n",
       "      <th>Minimum Shipping Cost</th>\n",
       "    </tr>\n",
       "    <tr>\n",
       "      <th>Product Container</th>\n",
       "      <th></th>\n",
       "      <th></th>\n",
       "    </tr>\n",
       "  </thead>\n",
       "  <tbody>\n",
       "    <tr>\n",
       "      <th>Jumbo Drum</th>\n",
       "      <td>164.73</td>\n",
       "      <td>0.75</td>\n",
       "    </tr>\n",
       "    <tr>\n",
       "      <th>Jumbo Box</th>\n",
       "      <td>154.12</td>\n",
       "      <td>0.50</td>\n",
       "    </tr>\n",
       "    <tr>\n",
       "      <th>Large Box</th>\n",
       "      <td>69.00</td>\n",
       "      <td>3.97</td>\n",
       "    </tr>\n",
       "    <tr>\n",
       "      <th>Medium Box</th>\n",
       "      <td>58.66</td>\n",
       "      <td>0.99</td>\n",
       "    </tr>\n",
       "    <tr>\n",
       "      <th>Small Box</th>\n",
       "      <td>57.87</td>\n",
       "      <td>0.49</td>\n",
       "    </tr>\n",
       "    <tr>\n",
       "      <th>Small Pack</th>\n",
       "      <td>54.95</td>\n",
       "      <td>0.99</td>\n",
       "    </tr>\n",
       "    <tr>\n",
       "      <th>Wrap Bag</th>\n",
       "      <td>37.58</td>\n",
       "      <td>0.70</td>\n",
       "    </tr>\n",
       "  </tbody>\n",
       "</table>\n",
       "</div>"
      ],
      "text/plain": [
       "                   Maximum Shipping Cost  Minimum Shipping Cost\n",
       "Product Container                                              \n",
       "Jumbo Drum                        164.73                   0.75\n",
       "Jumbo Box                         154.12                   0.50\n",
       "Large Box                          69.00                   3.97\n",
       "Medium Box                         58.66                   0.99\n",
       "Small Box                          57.87                   0.49\n",
       "Small Pack                         54.95                   0.99\n",
       "Wrap Bag                           37.58                   0.70"
      ]
     },
     "execution_count": 124,
     "metadata": {},
     "output_type": "execute_result"
    },
    {
     "data": {
      "image/png": "[encoded data removed]",
      "text/plain": [
       "<Figure size 432x288 with 1 Axes>"
      ]
     },
     "metadata": {
      "needs_background": "light"
     },
     "output_type": "display_data"
    }
   ],
   "source": [
    "# Shipping Cost\n",
    "# Product Container\n",
    "\n",
    "container_cost_max = Sales.groupby(Sales[\"Product Container\"]).max()\n",
    "container_cost_min = Sales.groupby(Sales[\"Product Container\"]).min()\n",
    "\n",
    "\n",
    "categories_max = container_cost_max.groupby('Product Container')\n",
    "categories_min = container_cost_min.groupby('Product Container')\n",
    "values_max = categories_max['Shipping Cost'].max().sort_values(ascending=False)\n",
    "values_min = categories_min['Shipping Cost'].min().sort_values(ascending=False)\n",
    "\n",
    "df_max = values_max.to_frame()\n",
    "df_min = values_min.to_frame()\n",
    "\n",
    "df = pd.merge(df_max, df_min, on='Product Container', how='inner')\n",
    "df.columns = ['Maximum Shipping Cost', 'Minimum Shipping Cost']\n",
    "df.plot.bar()\n",
    "df\n",
    "#values.plot.bar()"
   ]
  },
  {
   "cell_type": "code",
   "execution_count": 115,
   "metadata": {},
   "outputs": [
    {
     "data": {
      "text/plain": [
       "<matplotlib.axes._subplots.AxesSubplot at 0x2216b9c5e48>"
      ]
     },
     "execution_count": 115,
     "metadata": {},
     "output_type": "execute_result"
    },
    {
     "data": {
      "image/png": "[encoded data removed]",
      "text/plain": [
       "<Figure size 432x288 with 1 Axes>"
      ]
     },
     "metadata": {
      "needs_background": "light"
     },
     "output_type": "display_data"
    }
   ],
   "source": [
    "df_max.plot.bar()"
   ]
  },
  {
   "cell_type": "code",
   "execution_count": 116,
   "metadata": {},
   "outputs": [
    {
     "data": {
      "text/plain": [
       "<matplotlib.axes._subplots.AxesSubplot at 0x2216b64f748>"
      ]
     },
     "execution_count": 116,
     "metadata": {},
     "output_type": "execute_result"
    },
    {
     "data": {
      "image/png": "[encoded data removed]",
      "text/plain": [
       "<Figure size 432x288 with 1 Axes>"
      ]
     },
     "metadata": {
      "needs_background": "light"
     },
     "output_type": "display_data"
    }
   ],
   "source": [
    "df_min.plot.bar()"
   ]
  },
  {
   "cell_type": "markdown",
   "metadata": {},
   "source": [
    "- Compare profits per category amongst the different regions"
   ]
  },
  {
   "cell_type": "code",
   "execution_count": 136,
   "metadata": {},
   "outputs": [
    {
     "data": {
      "text/html": [
       "<div>\n",
       "<style scoped>\n",
       "    .dataframe tbody tr th:only-of-type {\n",
       "        vertical-align: middle;\n",
       "    }\n",
       "\n",
       "    .dataframe tbody tr th {\n",
       "        vertical-align: top;\n",
       "    }\n",
       "\n",
       "    .dataframe thead th {\n",
       "        text-align: right;\n",
       "    }\n",
       "</style>\n",
       "<table border=\"1\" class=\"dataframe\">\n",
       "  <thead>\n",
       "    <tr style=\"text-align: right;\">\n",
       "      <th></th>\n",
       "      <th></th>\n",
       "      <th>Profit</th>\n",
       "    </tr>\n",
       "    <tr>\n",
       "      <th>Region</th>\n",
       "      <th>Product Category</th>\n",
       "      <th></th>\n",
       "    </tr>\n",
       "  </thead>\n",
       "  <tbody>\n",
       "    <tr>\n",
       "      <th>Central</th>\n",
       "      <th>Technology</th>\n",
       "      <td>286629.666400</td>\n",
       "    </tr>\n",
       "    <tr>\n",
       "      <th>South</th>\n",
       "      <th>Technology</th>\n",
       "      <td>267851.410100</td>\n",
       "    </tr>\n",
       "    <tr>\n",
       "      <th>East</th>\n",
       "      <th>Technology</th>\n",
       "      <td>185013.272500</td>\n",
       "    </tr>\n",
       "    <tr>\n",
       "      <th>Central</th>\n",
       "      <th>Office Supplies</th>\n",
       "      <td>162819.102000</td>\n",
       "    </tr>\n",
       "    <tr>\n",
       "      <th>West</th>\n",
       "      <th>Technology</th>\n",
       "      <td>146819.166300</td>\n",
       "    </tr>\n",
       "    <tr>\n",
       "      <th>East</th>\n",
       "      <th>Office Supplies</th>\n",
       "      <td>138124.080500</td>\n",
       "    </tr>\n",
       "    <tr>\n",
       "      <th>South</th>\n",
       "      <th>Office Supplies</th>\n",
       "      <td>113316.691500</td>\n",
       "    </tr>\n",
       "    <tr>\n",
       "      <th rowspan=\"2\" valign=\"top\">West</th>\n",
       "      <th>Office Supplies</th>\n",
       "      <td>103761.584000</td>\n",
       "    </tr>\n",
       "    <tr>\n",
       "      <th>Furniture</th>\n",
       "      <td>48936.810000</td>\n",
       "    </tr>\n",
       "    <tr>\n",
       "      <th>South</th>\n",
       "      <th>Furniture</th>\n",
       "      <td>41339.010000</td>\n",
       "    </tr>\n",
       "    <tr>\n",
       "      <th>Central</th>\n",
       "      <th>Furniture</th>\n",
       "      <td>32442.474940</td>\n",
       "    </tr>\n",
       "    <tr>\n",
       "      <th>East</th>\n",
       "      <th>Furniture</th>\n",
       "      <td>-5285.308659</td>\n",
       "    </tr>\n",
       "  </tbody>\n",
       "</table>\n",
       "</div>"
      ],
      "text/plain": [
       "                                 Profit\n",
       "Region  Product Category               \n",
       "Central Technology        286629.666400\n",
       "South   Technology        267851.410100\n",
       "East    Technology        185013.272500\n",
       "Central Office Supplies   162819.102000\n",
       "West    Technology        146819.166300\n",
       "East    Office Supplies   138124.080500\n",
       "South   Office Supplies   113316.691500\n",
       "West    Office Supplies   103761.584000\n",
       "        Furniture          48936.810000\n",
       "South   Furniture          41339.010000\n",
       "Central Furniture          32442.474940\n",
       "East    Furniture          -5285.308659"
      ]
     },
     "execution_count": 136,
     "metadata": {},
     "output_type": "execute_result"
    }
   ],
   "source": [
    "categories_region = Sales.groupby(['Region','Product Category'])\n",
    "region = categories_region['Profit'].sum().sort_values(ascending=False)\n",
    "df_region_cate = region.to_frame()\n",
    "df_region_cate"
   ]
  },
  {
   "cell_type": "code",
   "execution_count": 142,
   "metadata": {},
   "outputs": [
    {
     "data": {
      "image/png": "[encoded data removed]",
      "text/plain": [
       "<Figure size 432x288 with 1 Axes>"
      ]
     },
     "metadata": {
      "needs_background": "light"
     },
     "output_type": "display_data"
    }
   ],
   "source": [
    "X = ['Central','South','East','West']\n",
    "Y = [286629.666400,267851.410100,185013.272500,146819.166300]\n",
    "Z = [162819.102000,113316.691500,138124.080500,103761.584000]\n",
    "W = [32442.474940,41339.010000,-5285.308659,48936.810000]\n",
    "\n",
    "\n",
    "df_r_c = pd.DataFrame(np.c_[Y,Z,W], index=X)\n",
    "df_r_c.columns = ['Technology', 'Office Supplies', 'Furniture']\n",
    "df_r_c\n",
    "\n",
    "df_r_c.plot.bar()\n",
    "plt.show()"
   ]
  },
  {
   "cell_type": "code",
   "execution_count": null,
   "metadata": {},
   "outputs": [],
   "source": []
  }
 ],
 "metadata": {
  "kernelspec": {
   "display_name": "Python 3",
   "language": "python",
   "name": "python3"
  },
  "language_info": {
   "codemirror_mode": {
    "name": "ipython",
    "version": 3
   },
   "file_extension": ".py",
   "mimetype": "text/x-python",
   "name": "python",
   "nbconvert_exporter": "python",
   "pygments_lexer": "ipython3",
   "version": "3.7.3"
  }
 },
 "nbformat": 4,
 "nbformat_minor": 2
}
